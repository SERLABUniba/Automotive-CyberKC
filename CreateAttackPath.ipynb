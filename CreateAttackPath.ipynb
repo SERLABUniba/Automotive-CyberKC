{
  "nbformat": 4,
  "nbformat_minor": 0,
  "metadata": {
    "colab": {
      "provenance": []
    },
    "kernelspec": {
      "name": "python3",
      "display_name": "Python 3"
    },
    "language_info": {
      "name": "python"
    }
  },
  "cells": [
    {
      "cell_type": "code",
      "source": [
        "! pip install networkx[default]"
      ],
      "metadata": {
        "colab": {
          "base_uri": "https://localhost:8080/"
        },
        "id": "WWcYE7Uon3EM",
        "outputId": "57670539-a03c-4f27-aa1f-f2db0a7ebc52"
      },
      "execution_count": null,
      "outputs": [
        {
          "output_type": "stream",
          "name": "stdout",
          "text": [
            "Looking in indexes: https://pypi.org/simple, https://us-python.pkg.dev/colab-wheels/public/simple/\n",
            "Requirement already satisfied: networkx[default] in /usr/local/lib/python3.10/dist-packages (3.1)\n",
            "Requirement already satisfied: pandas>=1.3 in /usr/local/lib/python3.10/dist-packages (from networkx[default]) (1.5.3)\n",
            "Requirement already satisfied: matplotlib>=3.4 in /usr/local/lib/python3.10/dist-packages (from networkx[default]) (3.7.1)\n",
            "Requirement already satisfied: numpy>=1.20 in /usr/local/lib/python3.10/dist-packages (from networkx[default]) (1.22.4)\n",
            "Requirement already satisfied: scipy>=1.8 in /usr/local/lib/python3.10/dist-packages (from networkx[default]) (1.10.1)\n",
            "Requirement already satisfied: python-dateutil>=2.7 in /usr/local/lib/python3.10/dist-packages (from matplotlib>=3.4->networkx[default]) (2.8.2)\n",
            "Requirement already satisfied: fonttools>=4.22.0 in /usr/local/lib/python3.10/dist-packages (from matplotlib>=3.4->networkx[default]) (4.39.3)\n",
            "Requirement already satisfied: packaging>=20.0 in /usr/local/lib/python3.10/dist-packages (from matplotlib>=3.4->networkx[default]) (23.1)\n",
            "Requirement already satisfied: kiwisolver>=1.0.1 in /usr/local/lib/python3.10/dist-packages (from matplotlib>=3.4->networkx[default]) (1.4.4)\n",
            "Requirement already satisfied: pillow>=6.2.0 in /usr/local/lib/python3.10/dist-packages (from matplotlib>=3.4->networkx[default]) (8.4.0)\n",
            "Requirement already satisfied: cycler>=0.10 in /usr/local/lib/python3.10/dist-packages (from matplotlib>=3.4->networkx[default]) (0.11.0)\n",
            "Requirement already satisfied: pyparsing>=2.3.1 in /usr/local/lib/python3.10/dist-packages (from matplotlib>=3.4->networkx[default]) (3.0.9)\n",
            "Requirement already satisfied: contourpy>=1.0.1 in /usr/local/lib/python3.10/dist-packages (from matplotlib>=3.4->networkx[default]) (1.0.7)\n",
            "Requirement already satisfied: pytz>=2020.1 in /usr/local/lib/python3.10/dist-packages (from pandas>=1.3->networkx[default]) (2022.7.1)\n",
            "Requirement already satisfied: six>=1.5 in /usr/local/lib/python3.10/dist-packages (from python-dateutil>=2.7->matplotlib>=3.4->networkx[default]) (1.16.0)\n"
          ]
        }
      ]
    },
    {
      "cell_type": "code",
      "source": [
        "import networkx as nx"
      ],
      "metadata": {
        "id": "RHtGWWIDn8qg"
      },
      "execution_count": null,
      "outputs": []
    },
    {
      "cell_type": "markdown",
      "source": [
        "Inizio"
      ],
      "metadata": {
        "id": "H9Khu_GaR4hd"
      }
    },
    {
      "cell_type": "code",
      "source": [
        "import sqlite3\n",
        "\n",
        "connection = sqlite3.connect('AAD.db')\n",
        "connection.row_factory = sqlite3.Row\n",
        "posts = connection.execute('SELECT * FROM Attacks').fetchall()\n",
        "connection.close()"
      ],
      "metadata": {
        "id": "aGWyZqK8BMaN"
      },
      "execution_count": null,
      "outputs": []
    },
    {
      "cell_type": "code",
      "source": [
        "def getOnlyId (s):\n",
        "  if \"Step1\" in s:\n",
        "    b = s.replace(\"_Step1\",\"\")\n",
        "  else:\n",
        "    a = s[0:s.rfind('_')]\n",
        "    b = a[0:a.rfind('_')]\n",
        "  return b"
      ],
      "metadata": {
        "id": "fGstocXTMPAZ"
      },
      "execution_count": null,
      "outputs": []
    },
    {
      "cell_type": "code",
      "source": [
        "listgraph = []\n",
        "\n",
        "for post in posts:\n",
        "  if \"SSA\" in post['ID']:\n",
        "    listgraph.append( nx.DiGraph([(\"r\", post['ID'])]))  \n",
        "\n",
        "  elif (\"MSA\" and \"Step1\") in post['ID']:\n",
        "\n",
        "    group = []\n",
        "    listofTuple = []\n",
        "    for post2 in posts:\n",
        "      if getOnlyId (post['ID']) == getOnlyId (post2['ID']):\n",
        "        group.append(post2['ID'])\n",
        "    \n",
        "    print (group)\n",
        "    step1 = next((s for s in group if \"Step1\" in s), None)\n",
        "    listofTuple.append( (\"r\", step1) )\n",
        "\n",
        "    nextStep = [s for s in group if \"_1\" in s]\n",
        "    for x in nextStep:\n",
        "      listofTuple.append( (step1, x) )\n",
        "\n",
        "    i=2\n",
        "    while i<=10:\n",
        "      precStep = nextStep\n",
        "      nextStep = [s for s in group if (\"_\"+str(i)) in s]\n",
        "      for y in precStep:\n",
        "        for x in nextStep:\n",
        "          listofTuple.append( (y, x) ) \n",
        "      i=i+1\n",
        "\n",
        "\n",
        "    print (\"Tuple: \", listofTuple)\n",
        "    listgraph.append ( nx.DiGraph( listofTuple ) )\n",
        "\n",
        "      \n",
        "\n",
        "    print (\"*****\")\n"
      ],
      "metadata": {
        "id": "0-CCwBiBBTJ9"
      },
      "execution_count": null,
      "outputs": []
    },
    {
      "cell_type": "code",
      "source": [
        "len(listgraph)"
      ],
      "metadata": {
        "colab": {
          "base_uri": "https://localhost:8080/"
        },
        "id": "bfWAKTvxfQXs",
        "outputId": "86aefb06-4211-4465-d07c-8ef6c2408f71"
      },
      "execution_count": null,
      "outputs": [
        {
          "output_type": "execute_result",
          "data": {
            "text/plain": [
              "361"
            ]
          },
          "metadata": {},
          "execution_count": 12
        }
      ]
    },
    {
      "cell_type": "code",
      "source": [
        "R = nx.compose_all(listgraph)"
      ],
      "metadata": {
        "id": "OZ3a-mDag1ic"
      },
      "execution_count": null,
      "outputs": []
    },
    {
      "cell_type": "code",
      "source": [
        "roots = (v for v, d in R.in_degree() if d == 0)\n",
        "leaves = (v for v, d in R.out_degree() if d == 0)\n",
        "all_paths = []\n",
        "for root in roots:\n",
        "    for leaf in leaves:\n",
        "        paths = nx.all_simple_paths(R, root, leaf)\n",
        "        all_paths.extend(paths)\n",
        "all_paths"
      ],
      "metadata": {
        "id": "D06nXuAPhwki"
      },
      "execution_count": null,
      "outputs": []
    },
    {
      "cell_type": "code",
      "source": [
        "print (len(all_paths))"
      ],
      "metadata": {
        "colab": {
          "base_uri": "https://localhost:8080/"
        },
        "id": "tPD05bCpiHwo",
        "outputId": "00e81a20-795a-4568-cb32-050947dc29e9"
      },
      "execution_count": null,
      "outputs": [
        {
          "output_type": "stream",
          "name": "stdout",
          "text": [
            "372\n"
          ]
        }
      ]
    },
    {
      "cell_type": "code",
      "source": [
        "import csv\n",
        "\n",
        "with open(\"out.csv\", \"w\", encoding='utf-8') as f:\n",
        "    wr = csv.writer(f)\n",
        "    wr.writerows(all_paths)"
      ],
      "metadata": {
        "id": "xkQq7_vxWGiC"
      },
      "execution_count": null,
      "outputs": []
    }
  ]
}